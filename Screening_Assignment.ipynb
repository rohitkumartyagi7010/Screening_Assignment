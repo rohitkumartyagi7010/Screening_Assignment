{
 "cells": [
  {
   "cell_type": "code",
   "execution_count": 36,
   "metadata": {},
   "outputs": [],
   "source": [
    "def stringreplacer():\n",
    "\n",
    "    \n",
    "    with open(\"example.txt\",\"r\") as file:\n",
    "        filedata = file.read()\n",
    "    filedata=filedata.replace(\"placement\",\"screening\")\n",
    "    with open(\"example.txt\",\"w\") as file:\n",
    "        file.write(filedata)\n",
    "        \n",
    "stringreplacer()        "
   ]
  },
  {
   "cell_type": "markdown",
   "metadata": {},
   "source": [
    "2. Demonstrate use of abstract class, multiple inheritance and decorator in\n",
    "python using examples."
   ]
  },
  {
   "cell_type": "markdown",
   "metadata": {},
   "source": [
    "# Abstract Classes"
   ]
  },
  {
   "cell_type": "markdown",
   "metadata": {},
   "source": [
    "Abstract class is a blue print for other class. In other words abstact class will set a rules that must be followed by\n",
    "other child class which  has been built from abstract class.\n",
    "\n",
    "A class which contains one or more abstract methods is called an abstract class.\n",
    "\n",
    "In below example every class derived from shape class will need to create Area methond.\n",
    "\n",
    "lets's Do it........."
   ]
  },
  {
   "cell_type": "code",
   "execution_count": 46,
   "metadata": {},
   "outputs": [
    {
     "name": "stdout",
     "output_type": "stream",
     "text": [
      "600\n"
     ]
    }
   ],
   "source": [
    "from abc import ABC, abstractmethod\n",
    "\n",
    "class Shape(ABC):\n",
    "    @abstractmethod\n",
    "    \n",
    "    def Area(self):\n",
    "        pass\n",
    "\n",
    "\n",
    "class Rectangle(Shape):\n",
    "    Type= \"Rectangle\"\n",
    "    Sides=4\n",
    "    def __init__(self):\n",
    "        self.length= 20 \n",
    "        self.width=30 \n",
    "        \n",
    "    def Area(self):\n",
    "        return self.length * self.width\n",
    "    \n",
    "a=Rectangle()    \n",
    "print(a.Area())"
   ]
  },
  {
   "cell_type": "markdown",
   "metadata": {},
   "source": [
    "# Multiple Inheritance:"
   ]
  },
  {
   "cell_type": "markdown",
   "metadata": {},
   "source": [
    "\n",
    "    \n",
    "Sometimes we need to derive a class from more than one base class we call it multiple inheritance.\n",
    "The derived class inherits all the features of the base case.\n",
    "    "
   ]
  },
  {
   "cell_type": "code",
   "execution_count": 39,
   "metadata": {},
   "outputs": [
    {
     "data": {
      "text/plain": [
       "'I am in class B'"
      ]
     },
     "execution_count": 39,
     "metadata": {},
     "output_type": "execute_result"
    }
   ],
   "source": [
    "class A():\n",
    "    stringA=\"I am in class A\"\n",
    "    \n",
    "class B():\n",
    "    stringB=\"I am in class B\"\n",
    "    \n",
    "class C(A,B):\n",
    "    stringC=\"I am in class C\"\n",
    "    \n",
    "    \n",
    "Object_of_class_C= C() \n",
    "\n",
    "Object_of_class_C.stringB # as you can see class C can access class B features\n",
    "    "
   ]
  },
  {
   "cell_type": "markdown",
   "metadata": {},
   "source": [
    "# Decorator"
   ]
  },
  {
   "cell_type": "markdown",
   "metadata": {},
   "source": [
    "I we say in simple words decorators are function that add functionality to an existing function,\n",
    "with out changing the structure of the the function itself.\n",
    "\n",
    "Those are represented by @decorator_name\n",
    "\n",
    "Those are called in bootam up fashioned.\n",
    "\n",
    "let's understand this by example:"
   ]
  },
  {
   "cell_type": "code",
   "execution_count": 42,
   "metadata": {},
   "outputs": [
    {
     "data": {
      "text/plain": [
       "'hello'"
      ]
     },
     "execution_count": 42,
     "metadata": {},
     "output_type": "execute_result"
    }
   ],
   "source": [
    "def lowercase_decorator(function):\n",
    "    def wrapper():\n",
    "        func=function()\n",
    "        string_lowercase=func.lower()\n",
    "        return string_lowercase\n",
    "    \n",
    "    return wrapper\n",
    "\n",
    "@lowercase_decorator\n",
    "def hello():\n",
    "    return \"HELLO\"\n",
    "\n",
    "hello()\n",
    "\n",
    "# as you can see we did not make any modification in our hello funcion even though with the help of lowercase_decorator\n",
    "# we got the desired out"
   ]
  },
  {
   "cell_type": "code",
   "execution_count": null,
   "metadata": {},
   "outputs": [],
   "source": []
  }
 ],
 "metadata": {
  "kernelspec": {
   "display_name": "Python 3",
   "language": "python",
   "name": "python3"
  },
  "language_info": {
   "codemirror_mode": {
    "name": "ipython",
    "version": 3
   },
   "file_extension": ".py",
   "mimetype": "text/x-python",
   "name": "python",
   "nbconvert_exporter": "python",
   "pygments_lexer": "ipython3",
   "version": "3.8.3"
  }
 },
 "nbformat": 4,
 "nbformat_minor": 4
}
